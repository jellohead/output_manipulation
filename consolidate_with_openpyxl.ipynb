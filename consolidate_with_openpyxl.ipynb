{
 "cells": [
  {
   "cell_type": "markdown",
   "metadata": {},
   "source": [
    "#### Refactoring crosstab_consolidation.ipynb using openpyxl methods\n",
    "#### Use a workbook created in python to store entire dataframe before saving results to file system"
   ]
  },
  {
   "cell_type": "code",
   "execution_count": 1,
   "metadata": {},
   "outputs": [],
   "source": [
    "import pandas as pd\n",
    "import openpyxl\n",
    "import pyreadstat\n",
    "import save_to_excel\n",
    "\n",
    "df, meta = pyreadstat.read_sav('../../SPSS-Python/spss-datasets/MMCU_data_practice.sav')\n",
    "df_with_meta = pyreadstat.set_value_labels(df, meta)\n"
   ]
  },
  {
   "cell_type": "code",
   "execution_count": 2,
   "metadata": {},
   "outputs": [],
   "source": [
    "# list of variables to use as columns and rows for the crosstabs\n",
    "row_variables = ['Q14_r1_recode','Q14_r2_recode','Q14_r3_recode','Q14_r4_recode', 'Q14_r5_recode', 'Q14_r6_recode']\n",
    "column_variables = ['Gender', 'Race_1', 'Hispanic', 'Race_2', 'Asian1','Qual1_recode','Qual7','BankingAccounts']"
   ]
  },
  {
   "cell_type": "code",
   "execution_count": 17,
   "metadata": {},
   "outputs": [
    {
     "data": {
      "text/plain": [
       "<Worksheet \"Q14_r1_recode\">"
      ]
     },
     "execution_count": 17,
     "metadata": {},
     "output_type": "execute_result"
    }
   ],
   "source": [
    "# create an excel workbook and a worksheet to store results\n",
    "wb = openpyxl.Workbook()\n",
    "wb.create_sheet(row_variables[0])"
   ]
  },
  {
   "cell_type": "code",
   "execution_count": 18,
   "metadata": {},
   "outputs": [
    {
     "data": {
      "text/plain": [
       "<Worksheet \"Sheet\">"
      ]
     },
     "execution_count": 18,
     "metadata": {},
     "output_type": "execute_result"
    }
   ],
   "source": [
    "wb.active"
   ]
  },
  {
   "cell_type": "code",
   "execution_count": 19,
   "metadata": {},
   "outputs": [
    {
     "data": {
      "text/plain": [
       "['Sheet', 'Q14_r1_recode']"
      ]
     },
     "execution_count": 19,
     "metadata": {},
     "output_type": "execute_result"
    }
   ],
   "source": [
    "wb.sheetnames"
   ]
  }
 ],
 "metadata": {
  "kernelspec": {
   "display_name": "Python 3",
   "language": "python",
   "name": "python3"
  },
  "language_info": {
   "codemirror_mode": {
    "name": "ipython",
    "version": 3
   },
   "file_extension": ".py",
   "mimetype": "text/x-python",
   "name": "python",
   "nbconvert_exporter": "python",
   "pygments_lexer": "ipython3",
   "version": "3.9.6"
  },
  "orig_nbformat": 4
 },
 "nbformat": 4,
 "nbformat_minor": 2
}
