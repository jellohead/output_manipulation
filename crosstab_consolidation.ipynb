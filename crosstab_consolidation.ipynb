{
 "cells": [
  {
   "attachments": {},
   "cell_type": "markdown",
   "metadata": {},
   "source": [
    "#### This code changes the value labels and saves the updated dataframe to a new spsss .sav file"
   ]
  },
  {
   "cell_type": "code",
   "execution_count": 12,
   "metadata": {},
   "outputs": [
    {
     "name": "stdout",
     "output_type": "stream",
     "text": [
      "Existing value labels for variable: GENDER\n",
      "{1.0: 'Male', 2.0: 'Female', 3.0: 'Other/Non-binary'}\n",
      "\n",
      "Updated value labels for variable: GENDER\n",
      "{1.0: 'Male', 2.0: 'Female', 3.0: 'Other_non_binary'}\n"
     ]
    },
    {
     "ename": "KeyError",
     "evalue": "'Q3_1'",
     "output_type": "error",
     "traceback": [
      "\u001b[0;31m---------------------------------------------------------------------------\u001b[0m",
      "\u001b[0;31mKeyError\u001b[0m                                  Traceback (most recent call last)",
      "\u001b[1;32m/Users/patescalona/Projects/Coding/python/output_manipulation/crosstab_consolidation.ipynb Cell 2\u001b[0m in \u001b[0;36m5\n\u001b[1;32m     <a href='vscode-notebook-cell:/Users/patescalona/Projects/Coding/python/output_manipulation/crosstab_consolidation.ipynb#W2sZmlsZQ%3D%3D?line=46'>47</a>\u001b[0m filtered_df, meta2 \u001b[39m=\u001b[39m pyreadstat\u001b[39m.\u001b[39mread_sav(new_meta_path)\n\u001b[1;32m     <a href='vscode-notebook-cell:/Users/patescalona/Projects/Coding/python/output_manipulation/crosstab_consolidation.ipynb#W2sZmlsZQ%3D%3D?line=47'>48</a>\u001b[0m meta2_dict \u001b[39m=\u001b[39m \u001b[39mdict\u001b[39m(\u001b[39mzip\u001b[39m(meta2\u001b[39m.\u001b[39mcolumn_names, meta2\u001b[39m.\u001b[39mcolumn_labels))\n\u001b[1;32m     <a href='vscode-notebook-cell:/Users/patescalona/Projects/Coding/python/output_manipulation/crosstab_consolidation.ipynb#W2sZmlsZQ%3D%3D?line=50'>51</a>\u001b[0m crosstab_result \u001b[39m=\u001b[39m pd\u001b[39m.\u001b[39mcrosstab(filtered_df[\u001b[39m'\u001b[39m\u001b[39mQ3_1\u001b[39m\u001b[39m'\u001b[39m]\u001b[39m.\u001b[39m \\\n\u001b[0;32m---> <a href='vscode-notebook-cell:/Users/patescalona/Projects/Coding/python/output_manipulation/crosstab_consolidation.ipynb#W2sZmlsZQ%3D%3D?line=51'>52</a>\u001b[0m             \u001b[39mmap\u001b[39m(meta2\u001b[39m.\u001b[39mvariable_value_labels[\u001b[39m'\u001b[39m\u001b[39mQ3_1\u001b[39m\u001b[39m'\u001b[39m]), \\\n\u001b[1;32m     <a href='vscode-notebook-cell:/Users/patescalona/Projects/Coding/python/output_manipulation/crosstab_consolidation.ipynb#W2sZmlsZQ%3D%3D?line=52'>53</a>\u001b[0m             filtered_df[\u001b[39m'\u001b[39m\u001b[39mGENDER\u001b[39m\u001b[39m'\u001b[39m]\u001b[39m.\u001b[39mmap(meta2\u001b[39m.\u001b[39mvariable_value_labels[\u001b[39m'\u001b[39m\u001b[39mGENDER\u001b[39m\u001b[39m'\u001b[39m]), \\\n\u001b[1;32m     <a href='vscode-notebook-cell:/Users/patescalona/Projects/Coding/python/output_manipulation/crosstab_consolidation.ipynb#W2sZmlsZQ%3D%3D?line=53'>54</a>\u001b[0m             dropna\u001b[39m=\u001b[39m\u001b[39mTrue\u001b[39;00m, normalize\u001b[39m=\u001b[39m\u001b[39m'\u001b[39m\u001b[39mcolumns\u001b[39m\u001b[39m'\u001b[39m)\u001b[39m.\u001b[39m \\\n\u001b[1;32m     <a href='vscode-notebook-cell:/Users/patescalona/Projects/Coding/python/output_manipulation/crosstab_consolidation.ipynb#W2sZmlsZQ%3D%3D?line=54'>55</a>\u001b[0m             loc[meta2\u001b[39m.\u001b[39mvariable_value_labels[\u001b[39m'\u001b[39m\u001b[39mQ3_1\u001b[39m\u001b[39m'\u001b[39m]\u001b[39m.\u001b[39mvalues()]\u001b[39m.\u001b[39m \\\n\u001b[1;32m     <a href='vscode-notebook-cell:/Users/patescalona/Projects/Coding/python/output_manipulation/crosstab_consolidation.ipynb#W2sZmlsZQ%3D%3D?line=55'>56</a>\u001b[0m             loc[:,meta2\u001b[39m.\u001b[39mvariable_value_labels[\u001b[39m'\u001b[39m\u001b[39mGENDER\u001b[39m\u001b[39m'\u001b[39m]\u001b[39m.\u001b[39mvalues()]\u001b[39m*\u001b[39m\u001b[39m100\u001b[39m\n\u001b[1;32m     <a href='vscode-notebook-cell:/Users/patescalona/Projects/Coding/python/output_manipulation/crosstab_consolidation.ipynb#W2sZmlsZQ%3D%3D?line=58'>59</a>\u001b[0m \u001b[39m# filter the dataframe to return records that contain 'checked' for Q3_1\u001b[39;00m\n\u001b[1;32m     <a href='vscode-notebook-cell:/Users/patescalona/Projects/Coding/python/output_manipulation/crosstab_consolidation.ipynb#W2sZmlsZQ%3D%3D?line=59'>60</a>\u001b[0m \u001b[39m# filtered_df = df[df['Q3_1'] == 1]\u001b[39;00m\n\u001b[1;32m     <a href='vscode-notebook-cell:/Users/patescalona/Projects/Coding/python/output_manipulation/crosstab_consolidation.ipynb#W2sZmlsZQ%3D%3D?line=60'>61</a>\u001b[0m \u001b[39m# print(filtered_df.shape)\u001b[39;00m\n\u001b[1;32m     <a href='vscode-notebook-cell:/Users/patescalona/Projects/Coding/python/output_manipulation/crosstab_consolidation.ipynb#W2sZmlsZQ%3D%3D?line=61'>62</a>\u001b[0m \n\u001b[1;32m     <a href='vscode-notebook-cell:/Users/patescalona/Projects/Coding/python/output_manipulation/crosstab_consolidation.ipynb#W2sZmlsZQ%3D%3D?line=62'>63</a>\u001b[0m \u001b[39m# crosstab_result = pd.crosstab(filtered_df['Q3_1'], filtered_df['GENDER'], normalize='columns')\u001b[39;00m\n\u001b[1;32m     <a href='vscode-notebook-cell:/Users/patescalona/Projects/Coding/python/output_manipulation/crosstab_consolidation.ipynb#W2sZmlsZQ%3D%3D?line=63'>64</a>\u001b[0m \u001b[39mprint\u001b[39m(crosstab_result)\n",
      "\u001b[0;31mKeyError\u001b[0m: 'Q3_1'"
     ]
    }
   ],
   "source": [
    "import pandas as pd\n",
    "import pyreadstat\n",
    "\n",
    "# Import the data set using pyreadstat\n",
    "data_path = '../../SPSS-Python/spss-datasets/PH_consumer_data_practice.sav'\n",
    "df, meta = pyreadstat.read_sav(data_path)\n",
    "\n",
    "# Access the variable metadata\n",
    "var_name = 'GENDER'\n",
    "var_metadata = meta.variable_value_labels.get(var_name)\n",
    "\n",
    "# Check if the variable has value labels\n",
    "if var_metadata is not None:\n",
    "    print(\"Existing value labels for variable:\", var_name)\n",
    "    print(var_metadata)\n",
    "\n",
    "    # Define the new value labels\n",
    "    new_value_labels = {\n",
    "        1.0: 'Male',\n",
    "        2.0: 'Female',\n",
    "        3.0: 'Other_non_binary'\n",
    "    }\n",
    "\n",
    "    # Update the variable's value labels\n",
    "    meta.variable_value_labels[var_name] = new_value_labels\n",
    "\n",
    "    print(\"\\nUpdated value labels for variable:\", var_name)\n",
    "    print(meta.variable_value_labels[var_name])\n",
    "\n",
    "    # Save the updated metadata to a new file\n",
    "    new_meta_path = \"../output_manipulation/output_folder/gender_metadata_value_label_updated.sav\"\n",
    "    # pyreadstat.write_sav(data_path, df, metadata=new_meta_path)\n",
    "    pyreadstat.write_sav(df, new_meta_path)\n",
    "else:\n",
    "    print(\"Variable does not have value labels.\")\n",
    "\n",
    "# Create a dictionary so that we can selectively display the correct label for a column if necessary.\n",
    "meta_dict = dict(zip(meta.column_names, meta.column_labels))\n",
    "\n",
    "df2 = df[df[\"Q3_1\"] == 1]\n",
    "\n",
    "# Save the updated metadata to a new file\n",
    "new_meta_path = \"../output_manipulation/output_folder/gender_metadata_value_label_updated.sav\"\n",
    "# pyreadstat.write_sav(data_path, df, metadata=new_meta_path)\n",
    "pyreadstat.write_sav(df2, new_meta_path)\n",
    "\n",
    "filtered_df, meta2 = pyreadstat.read_sav(new_meta_path)\n",
    "meta2_dict = dict(zip(meta2.column_names, meta2.column_labels))\n",
    "\n",
    "\n",
    "crosstab_result = pd.crosstab(filtered_df['Q3_1']. \\\n",
    "            map(meta2.variable_value_labels['Q3_1']), \\\n",
    "            filtered_df['GENDER'].map(meta2.variable_value_labels['GENDER']), \\\n",
    "            dropna=True, normalize='columns'). \\\n",
    "            loc[meta2.variable_value_labels['Q3_1'].values()]. \\\n",
    "            loc[:,meta2.variable_value_labels['GENDER'].values()]*100\n",
    "\n",
    "\n",
    "# filter the dataframe to return records that contain 'checked' for Q3_1\n",
    "# filtered_df = df[df['Q3_1'] == 1]\n",
    "# print(filtered_df.shape)\n",
    "\n",
    "# crosstab_result = pd.crosstab(filtered_df['Q3_1'], filtered_df['GENDER'], normalize='columns')\n",
    "print(crosstab_result)\n"
   ]
  },
  {
   "cell_type": "code",
   "execution_count": null,
   "metadata": {},
   "outputs": [],
   "source": [
    "# Create a dictionary so that we can selectively display the correct label for a column if necessary.\n",
    "meta_dict = dict(zip(meta.column_names, meta.column_labels))\n",
    "\n",
    "\n",
    "# Filter the dataframe to only return Q3_1 == 1\n",
    "#filtered_df = df[df['Q3_1'] == 1]\n",
    "\n",
    "pd.crosstab(df['Q3_1'].\\\n",
    "            map(meta.variable_value_labels['Q3_1']), \\\n",
    "            df['GENDER'].map(meta.variable_value_labels['GENDER']), \\\n",
    "            dropna=True, normalize='columns'). \\\n",
    "            loc[meta.variable_value_labels['Q3_1'].values()]. \\\n",
    "            loc[:,meta.variable_value_labels['GENDER'].values()]*100"
   ]
  },
  {
   "cell_type": "code",
   "execution_count": 2,
   "metadata": {},
   "outputs": [
    {
     "data": {
      "text/plain": [
       "(163, 209)"
      ]
     },
     "execution_count": 2,
     "metadata": {},
     "output_type": "execute_result"
    }
   ],
   "source": [
    "df.shape"
   ]
  },
  {
   "attachments": {},
   "cell_type": "markdown",
   "metadata": {},
   "source": [
    "#### This code does the following:\n",
    "- Reads in an SPSS dataset and metadata\n",
    "- Modifies variable value labels to get rid of a \"/\" in the other/binary label\n",
    "- Creates a dictionary to associate the dataset with the metadata\n",
    "- Crosstabs a single row variable with a list of column variables\n",
    "- Concats each crosstab output into a single output dataframe\n",
    "- Prints the final output dataframe"
   ]
  },
  {
   "cell_type": "code",
   "execution_count": 45,
   "metadata": {},
   "outputs": [
    {
     "name": "stdout",
     "output_type": "stream",
     "text": [
      "GENDER          Male     Female  Other_non_binary\n",
      "Q3_1                                             \n",
      "Unchecked  40.540541  48.863636               0.0\n",
      "Checked    59.459459  51.136364             100.0\n",
      "                Male     Female  Other_non_binary      White  Non-White\n",
      "Q3_1                                                                   \n",
      "Unchecked  40.540541  48.863636               0.0  47.887324  42.391304\n",
      "Checked    59.459459  51.136364             100.0  52.112676  57.608696\n",
      "                Male     Female  Other_non_binary      White  Non-White  \\\n",
      "Q3_1                                                                      \n",
      "Unchecked  40.540541  48.863636               0.0  47.887324  42.391304   \n",
      "Checked    59.459459  51.136364             100.0  52.112676  57.608696   \n",
      "\n",
      "             18 - 34   35 - 54        55+  \n",
      "Q3_1                                       \n",
      "Unchecked  53.030303  40.57971  35.714286  \n",
      "Checked    46.969697  59.42029  64.285714  \n",
      "                Male     Female  Other_non_binary      White  Non-White  \\\n",
      "Q3_1                                                                      \n",
      "Unchecked  40.540541  48.863636               0.0  47.887324  42.391304   \n",
      "Checked    59.459459  51.136364             100.0  52.112676  57.608696   \n",
      "\n",
      "             18 - 34   35 - 54        55+  Less thank $40K  $40K - $69.9K  \\\n",
      "Q3_1                                                                        \n",
      "Unchecked  53.030303  40.57971  35.714286        36.206897      51.219512   \n",
      "Checked    46.969697  59.42029  64.285714        63.793103      48.780488   \n",
      "\n",
      "           $70K - $99.9K  $100K+  \n",
      "Q3_1                              \n",
      "Unchecked           28.0    60.0  \n",
      "Checked             72.0    40.0  \n"
     ]
    }
   ],
   "source": [
    "import pandas as pd\n",
    "import pyreadstat\n",
    "\n",
    "# Import the data set using pyreadstat\n",
    "data_path = '../../SPSS-Python/spss-datasets/PH_consumer_data_practice.sav'\n",
    "df, meta = pyreadstat.read_sav(data_path)\n",
    "\n",
    "# Access the variable metadata\n",
    "var_name = 'GENDER'\n",
    "var_metadata = meta.variable_value_labels.get(var_name)\n",
    "\n",
    "# Check if the variable has value labels\n",
    "if var_metadata is not None:\n",
    "    \n",
    "    # Define the new value labels\n",
    "    new_value_labels = {\n",
    "        1.0: 'Male',\n",
    "        2.0: 'Female',\n",
    "        3.0: 'Other_non_binary'\n",
    "    }\n",
    "\n",
    "    # Update the variable's value labels\n",
    "    meta.variable_value_labels[var_name] = new_value_labels\n",
    "\n",
    "    # Save the updated metadata to a new file\n",
    "    new_meta_path = \"../output_manipulation/output_folder/gender_metadata_value_label_updated.sav\"\n",
    "    \n",
    "    # pyreadstat.write_sav(data_path, df, metadata=new_meta_path)\n",
    "    pyreadstat.write_sav(df, new_meta_path)\n",
    "else:\n",
    "    print(\"Variable does not have value labels.\")\n",
    "\n",
    "# Create a dictionary so that we can selectively display the correct label for a column if necessary.\n",
    "meta_dict = dict(zip(meta.column_names, meta.column_labels))\n",
    "\n",
    "# list of variables to use as columns and rows for the crosstabs\n",
    "row_variable = ['Q3_1']\n",
    "column_variable = ['GENDER', 'WhiteVNonWhite', 'AGEGROUP', 'INCOMEGROUP']\n",
    "# variables = ['GENDER', 'WhiteVNonWhite', 'AGEGROUP', 'INCOMEGROUP']\n",
    "\n",
    "crosstab_result_concat = pd.DataFrame()\n",
    "# loop through the column variable list and crosstab each one\n",
    "for col in column_variable:\n",
    "    crosstab_result = pd.crosstab(df['Q3_1'].\\\n",
    "            map(meta.variable_value_labels['Q3_1']), \\\n",
    "            df[col].map(meta.variable_value_labels[col]), \\\n",
    "            dropna=True, normalize='columns'). \\\n",
    "            loc[meta.variable_value_labels['Q3_1'].values()]. \\\n",
    "            loc[:,meta.variable_value_labels[col].values()]*100\n",
    "            \n",
    "    # frames = [crosstab_result_concat, crosstab_result]\n",
    "\n",
    "    crosstab_result_concat = pd.concat([crosstab_result_concat, crosstab_result], axis=1)\n",
    "    \n",
    "    print(crosstab_result_concat)\n"
   ]
  },
  {
   "cell_type": "code",
   "execution_count": 22,
   "metadata": {},
   "outputs": [
    {
     "ename": "KeyError",
     "evalue": "\"None of ['Q3_1'] are in the columns\"",
     "output_type": "error",
     "traceback": [
      "\u001b[0;31m---------------------------------------------------------------------------\u001b[0m",
      "\u001b[0;31mKeyError\u001b[0m                                  Traceback (most recent call last)",
      "\u001b[1;32m/Users/patescalona/Projects/Coding/python/output_manipulation/crosstab_consolidation.ipynb Cell 6\u001b[0m in \u001b[0;36m2\n\u001b[1;32m     <a href='vscode-notebook-cell:/Users/patescalona/Projects/Coding/python/output_manipulation/crosstab_consolidation.ipynb#W6sZmlsZQ%3D%3D?line=18'>19</a>\u001b[0m table2 \u001b[39m=\u001b[39m pd\u001b[39m.\u001b[39mDataFrame(table2_data)\n\u001b[1;32m     <a href='vscode-notebook-cell:/Users/patescalona/Projects/Coding/python/output_manipulation/crosstab_consolidation.ipynb#W6sZmlsZQ%3D%3D?line=20'>21</a>\u001b[0m \u001b[39m# Set the 'Q3_1' column as the index for both tables\u001b[39;00m\n\u001b[0;32m---> <a href='vscode-notebook-cell:/Users/patescalona/Projects/Coding/python/output_manipulation/crosstab_consolidation.ipynb#W6sZmlsZQ%3D%3D?line=21'>22</a>\u001b[0m table1\u001b[39m.\u001b[39mset_index(\u001b[39m'\u001b[39m\u001b[39mQ3_1\u001b[39m\u001b[39m'\u001b[39m, inplace\u001b[39m=\u001b[39m\u001b[39mTrue\u001b[39;00m)\n\u001b[1;32m     <a href='vscode-notebook-cell:/Users/patescalona/Projects/Coding/python/output_manipulation/crosstab_consolidation.ipynb#W6sZmlsZQ%3D%3D?line=22'>23</a>\u001b[0m table2\u001b[39m.\u001b[39mset_index(\u001b[39m'\u001b[39m\u001b[39mQ3_1\u001b[39m\u001b[39m'\u001b[39m, inplace\u001b[39m=\u001b[39m\u001b[39mTrue\u001b[39;00m)\n\u001b[1;32m     <a href='vscode-notebook-cell:/Users/patescalona/Projects/Coding/python/output_manipulation/crosstab_consolidation.ipynb#W6sZmlsZQ%3D%3D?line=24'>25</a>\u001b[0m \u001b[39m# Concatenate the tables horizontally (along columns)\u001b[39;00m\n",
      "File \u001b[0;32m/Library/Frameworks/Python.framework/Versions/3.10/lib/python3.10/site-packages/pandas/util/_decorators.py:317\u001b[0m, in \u001b[0;36mdeprecate_nonkeyword_arguments.<locals>.decorate.<locals>.wrapper\u001b[0;34m(*args, **kwargs)\u001b[0m\n\u001b[1;32m    311\u001b[0m \u001b[39mif\u001b[39;00m \u001b[39mlen\u001b[39m(args) \u001b[39m>\u001b[39m num_allow_args:\n\u001b[1;32m    312\u001b[0m     warnings\u001b[39m.\u001b[39mwarn(\n\u001b[1;32m    313\u001b[0m         msg\u001b[39m.\u001b[39mformat(arguments\u001b[39m=\u001b[39marguments),\n\u001b[1;32m    314\u001b[0m         \u001b[39mFutureWarning\u001b[39;00m,\n\u001b[1;32m    315\u001b[0m         stacklevel\u001b[39m=\u001b[39mfind_stack_level(inspect\u001b[39m.\u001b[39mcurrentframe()),\n\u001b[1;32m    316\u001b[0m     )\n\u001b[0;32m--> 317\u001b[0m \u001b[39mreturn\u001b[39;00m func(\u001b[39m*\u001b[39;49margs, \u001b[39m*\u001b[39;49m\u001b[39m*\u001b[39;49mkwargs)\n",
      "File \u001b[0;32m/Library/Frameworks/Python.framework/Versions/3.10/lib/python3.10/site-packages/pandas/core/frame.py:6004\u001b[0m, in \u001b[0;36mDataFrame.set_index\u001b[0;34m(self, keys, drop, append, inplace, verify_integrity)\u001b[0m\n\u001b[1;32m   6001\u001b[0m                 missing\u001b[39m.\u001b[39mappend(col)\n\u001b[1;32m   6003\u001b[0m \u001b[39mif\u001b[39;00m missing:\n\u001b[0;32m-> 6004\u001b[0m     \u001b[39mraise\u001b[39;00m \u001b[39mKeyError\u001b[39;00m(\u001b[39mf\u001b[39m\u001b[39m\"\u001b[39m\u001b[39mNone of \u001b[39m\u001b[39m{\u001b[39;00mmissing\u001b[39m}\u001b[39;00m\u001b[39m are in the columns\u001b[39m\u001b[39m\"\u001b[39m)\n\u001b[1;32m   6006\u001b[0m \u001b[39mif\u001b[39;00m inplace:\n\u001b[1;32m   6007\u001b[0m     frame \u001b[39m=\u001b[39m \u001b[39mself\u001b[39m\n",
      "\u001b[0;31mKeyError\u001b[0m: \"None of ['Q3_1'] are in the columns\""
     ]
    }
   ],
   "source": [
    "import pandas as pd\n",
    "\n",
    "# Define the first table data\n",
    "table1_data = {\n",
    "    'GENDER': ['Male', 'Female', 'Other_non_binary'],\n",
    "    'Unchecked': [40.540541, 48.863636, 0.0],\n",
    "    'Checked': [59.459459, 51.136364, 100.0]\n",
    "}\n",
    "\n",
    "# Define the second table data\n",
    "table2_data = {\n",
    "    'AGEGROUP': ['18 - 34', '35 - 54', '55+'],\n",
    "    'Unchecked': [53.030303, 40.57971, 35.714286],\n",
    "    'Checked': [46.969697, 59.42029, 64.285714]\n",
    "}\n",
    "\n",
    "# Create DataFrames from the table data\n",
    "table1 = pd.DataFrame(table1_data)\n",
    "table2 = pd.DataFrame(table2_data)\n",
    "\n",
    "# Set the 'Q3_1' column as the index for both tables\n",
    "table1.set_index('Q3_1', inplace=True)\n",
    "table2.set_index('Q3_1', inplace=True)\n",
    "\n",
    "# Concatenate the tables horizontally (along columns)\n",
    "joined_table = pd.concat([table1, table2], axis=1)\n",
    "\n",
    "# Print the joined table\n",
    "print(joined_table)\n"
   ]
  }
 ],
 "metadata": {
  "kernelspec": {
   "display_name": "Python 3",
   "language": "python",
   "name": "python3"
  },
  "language_info": {
   "codemirror_mode": {
    "name": "ipython",
    "version": 3
   },
   "file_extension": ".py",
   "mimetype": "text/x-python",
   "name": "python",
   "nbconvert_exporter": "python",
   "pygments_lexer": "ipython3",
   "version": "3.10.6"
  },
  "orig_nbformat": 4
 },
 "nbformat": 4,
 "nbformat_minor": 2
}
